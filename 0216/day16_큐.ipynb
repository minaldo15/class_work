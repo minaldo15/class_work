{
 "cells": [
  {
   "attachments": {},
   "cell_type": "markdown",
   "metadata": {},
   "source": [
    "# 큐\n",
    "\n",
    "## 큐의 특성\n",
    "- 스택과 마찬가지로 삽입과 삭제의 위치가 제한적인 자료구조\n",
    "- 선입선출구조(FIFO)\n",
    "\n",
    "## 선형큐\n",
    "- 1차원 배열을 이용한 큐\n",
    "  - 큐의 크기 = 배열의 크기\n",
    "  - front: 저장된 첫 번째 원소의 인덱스\n",
    "  - rear: 저장된 마지막 원소의 인덱스\n",
    "\n",
    "- 상태 표현\n",
    "  - 초기 상태:front = rear = -1\n",
    "  - 공백 상태:front == rear\n",
    "  - 포화 상태:rear == n-1(n:배열의 크기, n-1:배열의 마지막 인덱스)\n",
    "\n",
    "- 큐의 연산\n",
    "  - enQueue(item)\n",
    "  - deQueue\n",
    "  - createQueue\n",
    "  - isEmpty()\n",
    "  - isFull()\n",
    "  - Qpeek()\n",
    "\n",
    "- 선형 큐 이용시 문제점\n",
    "  - 잘못된 포화상태 인식\n",
    "    - 배열의 앞부분에 활용할 수 있는 공간이 있음에도, rear=n-1 인 상태 즉, 포화상태로 인식하여 더 이상 삽입을 수행하지 않게 됨\n",
    "  - 해결방법1\n",
    "    - 매 연산이 이루어질 때마다 저장된 원소들을 배열의 앞부분으로 모두 이동시킴\n",
    "    - 효율성이 떨어짐\n",
    "  - 해결방법2(원형큐)\n",
    "    - 1차원 배열을 사용하되, 논리적으로 배열의 처음과 끝이 연결되어 원형 형태의 큐를 이룬다고 가정하고 사용\n",
    "    - 초기 공백 상태\n",
    "      - front = rear = 0\n",
    "    - 삽입, 삭제 위치\n",
    "      - rear = (rear+1)%n\n",
    "      - front = (front+1)%n\n",
    "    - 포화상태\n",
    "      - (rear+1)%n == front\n",
    "\n",
    "## 우선순위 큐\n",
    "- 우선순위 큐의 특성\n",
    "  - 우선순위를 가진 항목들을 저장하는 큐\n",
    "  - FIFO순서가 아니라 우선순위가 높은 순서대로 먼저 나가게 된다.\n",
    "- 우선순위 큐의 적용 분야\n",
    "  - 시뮬레이션 시스템\n",
    "  - 네트워크 트래픽 제어\n",
    "  - 운영체제의 테스트 스케줄링"
   ]
  },
  {
   "cell_type": "code",
   "execution_count": 5,
   "metadata": {},
   "outputs": [
    {
     "name": "stdout",
     "output_type": "stream",
     "text": [
      "1\n",
      "2\n",
      "3\n",
      "10\n",
      "20\n",
      "30\n",
      "100\n",
      "200\n",
      "300\n"
     ]
    }
   ],
   "source": [
    "from collections import deque\n",
    "def enqueue(data):\n",
    "    global rear\n",
    "    rear += 1\n",
    "    queue[rear] = data\n",
    "\n",
    "def dequeue():\n",
    "    global front\n",
    "    front += 1\n",
    "    return queue[front]\n",
    "\n",
    "\n",
    "queue = [0]*3\n",
    "front = -1\n",
    "rear = -1\n",
    "\n",
    "enqueue(1)\n",
    "enqueue(2)\n",
    "enqueue(3)\n",
    "\n",
    "print(dequeue())\n",
    "print(dequeue())\n",
    "if front != rear:\n",
    "    print(dequeue())\n",
    "if front != rear:\n",
    "    print(dequeue())\n",
    "\n",
    "q = []\n",
    "q.append(10)\n",
    "q.append(20)\n",
    "q.append(30)\n",
    "print(q.pop(0))\n",
    "print(q.pop(0))\n",
    "print(q.pop(0))\n",
    "\n",
    "q1 = deque()\n",
    "q1.append(100)\n",
    "q1.append(200)\n",
    "q1.append(300)\n",
    "print(q1.popleft())\n",
    "print(q1.popleft())\n",
    "print(q1.popleft())"
   ]
  },
  {
   "cell_type": "code",
   "execution_count": null,
   "metadata": {},
   "outputs": [],
   "source": []
  }
 ],
 "metadata": {
  "kernelspec": {
   "display_name": "Python 3",
   "language": "python",
   "name": "python3"
  },
  "language_info": {
   "codemirror_mode": {
    "name": "ipython",
    "version": 3
   },
   "file_extension": ".py",
   "mimetype": "text/x-python",
   "name": "python",
   "nbconvert_exporter": "python",
   "pygments_lexer": "ipython3",
   "version": "3.9.13"
  },
  "orig_nbformat": 4,
  "vscode": {
   "interpreter": {
    "hash": "c4b9ebf4ca459396e2ad1150752490c26670c1a037c08cad955a4425787bec2e"
   }
  }
 },
 "nbformat": 4,
 "nbformat_minor": 2
}
