{
 "cells": [
  {
   "attachments": {},
   "cell_type": "markdown",
   "metadata": {},
   "source": [
    " 1. 간단한 N의 약수(SWEA #1933)\n",
    "\n",
    "입력으로 1개의 정수 N이 주어진다. 정수 N의 약수를 오름차순으로 출력하는 프로그램을 작성하시오.\n",
    "\n",
    "[제약 사항]\n",
    "N은 1이상 1,000이하의 정수이다. (1 ≤ N ≤ 1,000)\n",
    "\n",
    "[입력]\n",
    "입력으로 정수 N이 주어진다.\n",
    "[출력]\n",
    "정수 N의 모든 약수를 오름차순으로 출력한다.\n",
    "\n",
    "[입력 예시]\n",
    "10\n",
    "[출력 예시]\n",
    "1 2 5 10"
   ]
  },
  {
   "cell_type": "code",
   "execution_count": null,
   "metadata": {},
   "outputs": [],
   "source": [
    "\n",
    "N = int(input())\n",
    "lst_mea = list()\n",
    "for i in range(1, N + 1):\n",
    "    if N % i == 0:\n",
    "        lst_mea.append(i)\n",
    "lst_mea.sort\n",
    "print(*lst_mea)"
   ]
  },
  {
   "attachments": {},
   "cell_type": "markdown",
   "metadata": {},
   "source": [
    "2. List의 합 구하기\n",
    "\n",
    "정수로만 이루어진 list 를 전달 받아 해당 list 의 모든 요소들의 합을 반환하는\n",
    "list_sum 함수를 built in 함수인 sum() 함수를 사용하지 않고 작성하시오"
   ]
  },
  {
   "cell_type": "code",
   "execution_count": null,
   "metadata": {},
   "outputs": [],
   "source": [
    "\n",
    "lst = [1,2,3,4,5]\n",
    "def list_sum(lst):\n",
    "    sum = 0\n",
    "    for i in range(len(lst)): # for num in lst:\n",
    "        sum += lst[i] # sum += num   \n",
    "    return sum\n",
    "print(list_sum(lst))"
   ]
  },
  {
   "attachments": {},
   "cell_type": "markdown",
   "metadata": {},
   "source": [
    "3. Dictionary로 이루어진 List의 합 구하기\n",
    "\n",
    "Dictionary로 이루어진 list를 전달 받아 모든 dictionary의 'age' key에 해당하는 value\n",
    "들의 합을 반환하는 dict_list_sum 함수를 built-in 함수인 sum() 함수를 사용하지 않고\n",
    "작성하시오."
   ]
  },
  {
   "cell_type": "code",
   "execution_count": null,
   "metadata": {},
   "outputs": [],
   "source": [
    "\n",
    "# dict_list_sum([{'name': 'kim', 'age': 12}, {'name': 'lee', 'age': 4}]) # => 16\n",
    "\n",
    "lst = [{'name': 'kim', 'age': 12}, {'name': 'lee', 'age': 4}]\n",
    "def dict_list_sum(lst):\n",
    "    sum = 0\n",
    "    for i in range(len(lst)): # for dic in lst:\n",
    "       sum = sum + lst[i]['age'] # sum = sum + dic['age']\n",
    "    return sum\n",
    "print(dict_list_sum(lst))"
   ]
  },
  {
   "attachments": {},
   "cell_type": "markdown",
   "metadata": {},
   "source": [
    "4. 2차원 List 의 전체 합 구하기\n",
    "\n",
    "정수로만 이루어진 2 차원 list 를 전달 받아 해당 list 의 모든 요소들의 합을 반환하는\n",
    "all_list_sum 함수를 built in 함수인 sum() 함수를 사용하지 않고 작성하시오"
   ]
  },
  {
   "cell_type": "code",
   "execution_count": 8,
   "metadata": {},
   "outputs": [
    {
     "name": "stdout",
     "output_type": "stream",
     "text": [
      "1\n"
     ]
    }
   ],
   "source": [
    "\n",
    "# all_list_sum([[1], [2 , 3], [4 , 5 , 6], [7 , 8 , 9 , 10]]) # => 55\n",
    "\n",
    "lst = [[1], [2 , 3], [4 , 5 , 6], [7 , 8 , 9 , 10]]\n",
    "# 각 lst[i]의 원소 합 구하기\n",
    "# def list_sum(lst_i): \n",
    "#     a = 0\n",
    "#     for j in range(len(lst_i)):\n",
    "#         a = a + lst_i[j]\n",
    "#     return a\n",
    "# # 전체 lst의 원소 합 구하기(함수 list_sum 활용)\n",
    "# def all_list_sum(lst): \n",
    "#     sum = 0\n",
    "#     for i in range(len(lst)): \n",
    "#         sum = sum + list_sum(lst[i]) \n",
    "\n",
    "# print(all_list_sum(lst))\n",
    "\n",
    "# 모범 답안\n",
    "def all_list_sum(lst): \n",
    "    result = 0\n",
    "    for sub_lst in lst:\n",
    "        for num in sub_lst:\n",
    "            return num\n",
    "\n",
    "            # result += num\n",
    "    #     return result\n",
    "    # return result\n",
    "print(all_list_sum(lst))"
   ]
  },
  {
   "attachments": {},
   "cell_type": "markdown",
   "metadata": {},
   "source": [
    "5. 숫자의 의미 정수로 이루어진 list 를 전달 받아, 각 정수에 대응되는 아스키 문자를 이어붙인\n",
    "문자열을 반환하는 get_secret_word 함수를 작성하시오.\n",
    "단, list 는 65 이상 90 이하 그리고 97 이상 122 이하의 정수로만 구성되어 있다\n"
   ]
  },
  {
   "cell_type": "code",
   "execution_count": 16,
   "metadata": {},
   "outputs": [
    {
     "name": "stdout",
     "output_type": "stream",
     "text": [
      "[83, 115, 65, 102, 89]\n"
     ]
    }
   ],
   "source": [
    "# get_secret_word([83 , 115 , 65 , 102 , 89]) # => 'SsAfY'\n",
    "# ord(문자): 아스키 코드(숫자)를 반환\n",
    "# chr(숫자): 숫자에 맞는 아스키 코드(문자)를 반환\n",
    "lst_num = [83 , 115 , 65 , 102 , 89]\n",
    "# lst_str = list()\n",
    "def get_secret_word(lst_num):\n",
    "    for num in lst_num:\n",
    "        return chr(num)\n",
    "        \n",
    "#     for i in range(len(lst_num)):\n",
    "#         lst_str.append(chr(lst_num(i)))\n",
    "#     return lst_str\n",
    "print(get_secret_word(lst_num))"
   ]
  }
 ],
 "metadata": {
  "kernelspec": {
   "display_name": "Python 3",
   "language": "python",
   "name": "python3"
  },
  "language_info": {
   "codemirror_mode": {
    "name": "ipython",
    "version": 3
   },
   "file_extension": ".py",
   "mimetype": "text/x-python",
   "name": "python",
   "nbconvert_exporter": "python",
   "pygments_lexer": "ipython3",
   "version": "3.9.13"
  },
  "orig_nbformat": 4,
  "vscode": {
   "interpreter": {
    "hash": "c4b9ebf4ca459396e2ad1150752490c26670c1a037c08cad955a4425787bec2e"
   }
  }
 },
 "nbformat": 4,
 "nbformat_minor": 2
}
